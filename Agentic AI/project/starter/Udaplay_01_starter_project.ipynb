{
 "cells": [
  {
   "cell_type": "markdown",
   "id": "6fdd0bcb",
   "metadata": {},
   "source": [
    "# [STARTER] Udaplay Project"
   ]
  },
  {
   "cell_type": "markdown",
   "id": "9325b035",
   "metadata": {},
   "source": [
    "## Part 01 - Offline RAG\n",
    "\n",
    "In this part of the project, you'll build your VectorDB using Chroma.\n",
    "\n",
    "The data is inside folder `project/starter/games`. Each file will become a document in the collection you'll create.\n",
    "Example.:\n",
    "```json\n",
    "{\n",
    "  \"Name\": \"Gran Turismo\",\n",
    "  \"Platform\": \"PlayStation 1\",\n",
    "  \"Genre\": \"Racing\",\n",
    "  \"Publisher\": \"Sony Computer Entertainment\",\n",
    "  \"Description\": \"A realistic racing simulator featuring a wide array of cars and tracks, setting a new standard for the genre.\",\n",
    "  \"YearOfRelease\": 1997\n",
    "}\n",
    "```\n"
   ]
  },
  {
   "cell_type": "markdown",
   "id": "2b42de90",
   "metadata": {},
   "source": [
    "### Setup"
   ]
  },
  {
   "cell_type": "code",
   "execution_count": 4,
   "id": "61283b25",
   "metadata": {},
   "outputs": [
    {
     "name": "stdout",
     "output_type": "stream",
     "text": [
      "Requirement already satisfied: chromadb>=1.0.4 in /Users/paulina/Projects/Udacity/udacity-agentic-ai/.venv/lib/python3.13/site-packages (1.0.21)\n",
      "Requirement already satisfied: openai>=1.73.0 in /Users/paulina/Projects/Udacity/udacity-agentic-ai/.venv/lib/python3.13/site-packages (1.78.1)\n",
      "Requirement already satisfied: pydantic>=2.11.3 in /Users/paulina/Projects/Udacity/udacity-agentic-ai/.venv/lib/python3.13/site-packages (2.11.7)\n",
      "Requirement already satisfied: python-dotenv>=1.1.0 in /Users/paulina/Projects/Udacity/udacity-agentic-ai/.venv/lib/python3.13/site-packages (1.1.0)\n",
      "Requirement already satisfied: tavily-python>=0.5.4 in /Users/paulina/Projects/Udacity/udacity-agentic-ai/.venv/lib/python3.13/site-packages (0.7.12)\n",
      "Requirement already satisfied: build>=1.0.3 in /Users/paulina/Projects/Udacity/udacity-agentic-ai/.venv/lib/python3.13/site-packages (from chromadb>=1.0.4) (1.3.0)\n",
      "Requirement already satisfied: pybase64>=1.4.1 in /Users/paulina/Projects/Udacity/udacity-agentic-ai/.venv/lib/python3.13/site-packages (from chromadb>=1.0.4) (1.4.2)\n",
      "Requirement already satisfied: uvicorn>=0.18.3 in /Users/paulina/Projects/Udacity/udacity-agentic-ai/.venv/lib/python3.13/site-packages (from uvicorn[standard]>=0.18.3->chromadb>=1.0.4) (0.35.0)\n",
      "Requirement already satisfied: numpy>=1.22.5 in /Users/paulina/Projects/Udacity/udacity-agentic-ai/.venv/lib/python3.13/site-packages (from chromadb>=1.0.4) (2.3.2)\n",
      "Requirement already satisfied: posthog<6.0.0,>=2.4.0 in /Users/paulina/Projects/Udacity/udacity-agentic-ai/.venv/lib/python3.13/site-packages (from chromadb>=1.0.4) (5.4.0)\n",
      "Requirement already satisfied: typing-extensions>=4.5.0 in /Users/paulina/Projects/Udacity/udacity-agentic-ai/.venv/lib/python3.13/site-packages (from chromadb>=1.0.4) (4.14.1)\n",
      "Requirement already satisfied: onnxruntime>=1.14.1 in /Users/paulina/Projects/Udacity/udacity-agentic-ai/.venv/lib/python3.13/site-packages (from chromadb>=1.0.4) (1.22.1)\n",
      "Requirement already satisfied: opentelemetry-api>=1.2.0 in /Users/paulina/Projects/Udacity/udacity-agentic-ai/.venv/lib/python3.13/site-packages (from chromadb>=1.0.4) (1.37.0)\n",
      "Requirement already satisfied: opentelemetry-exporter-otlp-proto-grpc>=1.2.0 in /Users/paulina/Projects/Udacity/udacity-agentic-ai/.venv/lib/python3.13/site-packages (from chromadb>=1.0.4) (1.37.0)\n",
      "Requirement already satisfied: opentelemetry-sdk>=1.2.0 in /Users/paulina/Projects/Udacity/udacity-agentic-ai/.venv/lib/python3.13/site-packages (from chromadb>=1.0.4) (1.37.0)\n",
      "Requirement already satisfied: tokenizers>=0.13.2 in /Users/paulina/Projects/Udacity/udacity-agentic-ai/.venv/lib/python3.13/site-packages (from chromadb>=1.0.4) (0.22.0)\n",
      "Requirement already satisfied: pypika>=0.48.9 in /Users/paulina/Projects/Udacity/udacity-agentic-ai/.venv/lib/python3.13/site-packages (from chromadb>=1.0.4) (0.48.9)\n",
      "Requirement already satisfied: tqdm>=4.65.0 in /Users/paulina/Projects/Udacity/udacity-agentic-ai/.venv/lib/python3.13/site-packages (from chromadb>=1.0.4) (4.67.1)\n",
      "Requirement already satisfied: overrides>=7.3.1 in /Users/paulina/Projects/Udacity/udacity-agentic-ai/.venv/lib/python3.13/site-packages (from chromadb>=1.0.4) (7.7.0)\n",
      "Requirement already satisfied: importlib-resources in /Users/paulina/Projects/Udacity/udacity-agentic-ai/.venv/lib/python3.13/site-packages (from chromadb>=1.0.4) (6.5.2)\n",
      "Requirement already satisfied: grpcio>=1.58.0 in /Users/paulina/Projects/Udacity/udacity-agentic-ai/.venv/lib/python3.13/site-packages (from chromadb>=1.0.4) (1.74.0)\n",
      "Requirement already satisfied: bcrypt>=4.0.1 in /Users/paulina/Projects/Udacity/udacity-agentic-ai/.venv/lib/python3.13/site-packages (from chromadb>=1.0.4) (4.3.0)\n",
      "Requirement already satisfied: typer>=0.9.0 in /Users/paulina/Projects/Udacity/udacity-agentic-ai/.venv/lib/python3.13/site-packages (from chromadb>=1.0.4) (0.17.4)\n",
      "Requirement already satisfied: kubernetes>=28.1.0 in /Users/paulina/Projects/Udacity/udacity-agentic-ai/.venv/lib/python3.13/site-packages (from chromadb>=1.0.4) (33.1.0)\n",
      "Requirement already satisfied: tenacity>=8.2.3 in /Users/paulina/Projects/Udacity/udacity-agentic-ai/.venv/lib/python3.13/site-packages (from chromadb>=1.0.4) (9.1.2)\n",
      "Requirement already satisfied: pyyaml>=6.0.0 in /Users/paulina/Projects/Udacity/udacity-agentic-ai/.venv/lib/python3.13/site-packages (from chromadb>=1.0.4) (6.0.2)\n",
      "Requirement already satisfied: mmh3>=4.0.1 in /Users/paulina/Projects/Udacity/udacity-agentic-ai/.venv/lib/python3.13/site-packages (from chromadb>=1.0.4) (5.2.0)\n",
      "Requirement already satisfied: orjson>=3.9.12 in /Users/paulina/Projects/Udacity/udacity-agentic-ai/.venv/lib/python3.13/site-packages (from chromadb>=1.0.4) (3.11.3)\n",
      "Requirement already satisfied: httpx>=0.27.0 in /Users/paulina/Projects/Udacity/udacity-agentic-ai/.venv/lib/python3.13/site-packages (from chromadb>=1.0.4) (0.28.1)\n",
      "Requirement already satisfied: rich>=10.11.0 in /Users/paulina/Projects/Udacity/udacity-agentic-ai/.venv/lib/python3.13/site-packages (from chromadb>=1.0.4) (14.1.0)\n",
      "Requirement already satisfied: jsonschema>=4.19.0 in /Users/paulina/Projects/Udacity/udacity-agentic-ai/.venv/lib/python3.13/site-packages (from chromadb>=1.0.4) (4.25.1)\n",
      "Requirement already satisfied: requests<3.0,>=2.7 in /Users/paulina/Projects/Udacity/udacity-agentic-ai/.venv/lib/python3.13/site-packages (from posthog<6.0.0,>=2.4.0->chromadb>=1.0.4) (2.32.5)\n",
      "Requirement already satisfied: six>=1.5 in /Users/paulina/Projects/Udacity/udacity-agentic-ai/.venv/lib/python3.13/site-packages (from posthog<6.0.0,>=2.4.0->chromadb>=1.0.4) (1.17.0)\n",
      "Requirement already satisfied: python-dateutil>=2.2 in /Users/paulina/Projects/Udacity/udacity-agentic-ai/.venv/lib/python3.13/site-packages (from posthog<6.0.0,>=2.4.0->chromadb>=1.0.4) (2.9.0.post0)\n",
      "Requirement already satisfied: backoff>=1.10.0 in /Users/paulina/Projects/Udacity/udacity-agentic-ai/.venv/lib/python3.13/site-packages (from posthog<6.0.0,>=2.4.0->chromadb>=1.0.4) (2.2.1)\n",
      "Requirement already satisfied: distro>=1.5.0 in /Users/paulina/Projects/Udacity/udacity-agentic-ai/.venv/lib/python3.13/site-packages (from posthog<6.0.0,>=2.4.0->chromadb>=1.0.4) (1.9.0)\n",
      "Requirement already satisfied: charset_normalizer<4,>=2 in /Users/paulina/Projects/Udacity/udacity-agentic-ai/.venv/lib/python3.13/site-packages (from requests<3.0,>=2.7->posthog<6.0.0,>=2.4.0->chromadb>=1.0.4) (3.4.3)\n",
      "Requirement already satisfied: idna<4,>=2.5 in /Users/paulina/Projects/Udacity/udacity-agentic-ai/.venv/lib/python3.13/site-packages (from requests<3.0,>=2.7->posthog<6.0.0,>=2.4.0->chromadb>=1.0.4) (3.10)\n",
      "Requirement already satisfied: urllib3<3,>=1.21.1 in /Users/paulina/Projects/Udacity/udacity-agentic-ai/.venv/lib/python3.13/site-packages (from requests<3.0,>=2.7->posthog<6.0.0,>=2.4.0->chromadb>=1.0.4) (2.5.0)\n",
      "Requirement already satisfied: certifi>=2017.4.17 in /Users/paulina/Projects/Udacity/udacity-agentic-ai/.venv/lib/python3.13/site-packages (from requests<3.0,>=2.7->posthog<6.0.0,>=2.4.0->chromadb>=1.0.4) (2025.7.14)\n",
      "Requirement already satisfied: anyio<5,>=3.5.0 in /Users/paulina/Projects/Udacity/udacity-agentic-ai/.venv/lib/python3.13/site-packages (from openai>=1.73.0) (4.9.0)\n",
      "Requirement already satisfied: jiter<1,>=0.4.0 in /Users/paulina/Projects/Udacity/udacity-agentic-ai/.venv/lib/python3.13/site-packages (from openai>=1.73.0) (0.10.0)\n",
      "Requirement already satisfied: sniffio in /Users/paulina/Projects/Udacity/udacity-agentic-ai/.venv/lib/python3.13/site-packages (from openai>=1.73.0) (1.3.1)\n",
      "Requirement already satisfied: annotated-types>=0.6.0 in /Users/paulina/Projects/Udacity/udacity-agentic-ai/.venv/lib/python3.13/site-packages (from pydantic>=2.11.3) (0.7.0)\n",
      "Requirement already satisfied: pydantic-core==2.33.2 in /Users/paulina/Projects/Udacity/udacity-agentic-ai/.venv/lib/python3.13/site-packages (from pydantic>=2.11.3) (2.33.2)\n",
      "Requirement already satisfied: typing-inspection>=0.4.0 in /Users/paulina/Projects/Udacity/udacity-agentic-ai/.venv/lib/python3.13/site-packages (from pydantic>=2.11.3) (0.4.1)\n",
      "Requirement already satisfied: httpcore==1.* in /Users/paulina/Projects/Udacity/udacity-agentic-ai/.venv/lib/python3.13/site-packages (from httpx>=0.27.0->chromadb>=1.0.4) (1.0.9)\n",
      "Requirement already satisfied: h11>=0.16 in /Users/paulina/Projects/Udacity/udacity-agentic-ai/.venv/lib/python3.13/site-packages (from httpcore==1.*->httpx>=0.27.0->chromadb>=1.0.4) (0.16.0)\n",
      "Requirement already satisfied: tiktoken>=0.5.1 in /Users/paulina/Projects/Udacity/udacity-agentic-ai/.venv/lib/python3.13/site-packages (from tavily-python>=0.5.4) (0.11.0)\n",
      "Requirement already satisfied: packaging>=19.1 in /Users/paulina/Projects/Udacity/udacity-agentic-ai/.venv/lib/python3.13/site-packages (from build>=1.0.3->chromadb>=1.0.4) (25.0)\n",
      "Requirement already satisfied: pyproject_hooks in /Users/paulina/Projects/Udacity/udacity-agentic-ai/.venv/lib/python3.13/site-packages (from build>=1.0.3->chromadb>=1.0.4) (1.2.0)\n",
      "Requirement already satisfied: attrs>=22.2.0 in /Users/paulina/Projects/Udacity/udacity-agentic-ai/.venv/lib/python3.13/site-packages (from jsonschema>=4.19.0->chromadb>=1.0.4) (25.3.0)\n",
      "Requirement already satisfied: jsonschema-specifications>=2023.03.6 in /Users/paulina/Projects/Udacity/udacity-agentic-ai/.venv/lib/python3.13/site-packages (from jsonschema>=4.19.0->chromadb>=1.0.4) (2025.9.1)\n",
      "Requirement already satisfied: referencing>=0.28.4 in /Users/paulina/Projects/Udacity/udacity-agentic-ai/.venv/lib/python3.13/site-packages (from jsonschema>=4.19.0->chromadb>=1.0.4) (0.36.2)\n",
      "Requirement already satisfied: rpds-py>=0.7.1 in /Users/paulina/Projects/Udacity/udacity-agentic-ai/.venv/lib/python3.13/site-packages (from jsonschema>=4.19.0->chromadb>=1.0.4) (0.27.1)\n",
      "Requirement already satisfied: google-auth>=1.0.1 in /Users/paulina/Projects/Udacity/udacity-agentic-ai/.venv/lib/python3.13/site-packages (from kubernetes>=28.1.0->chromadb>=1.0.4) (2.40.3)\n",
      "Requirement already satisfied: websocket-client!=0.40.0,!=0.41.*,!=0.42.*,>=0.32.0 in /Users/paulina/Projects/Udacity/udacity-agentic-ai/.venv/lib/python3.13/site-packages (from kubernetes>=28.1.0->chromadb>=1.0.4) (1.8.0)\n",
      "Requirement already satisfied: requests-oauthlib in /Users/paulina/Projects/Udacity/udacity-agentic-ai/.venv/lib/python3.13/site-packages (from kubernetes>=28.1.0->chromadb>=1.0.4) (2.0.0)\n",
      "Requirement already satisfied: oauthlib>=3.2.2 in /Users/paulina/Projects/Udacity/udacity-agentic-ai/.venv/lib/python3.13/site-packages (from kubernetes>=28.1.0->chromadb>=1.0.4) (3.3.1)\n",
      "Requirement already satisfied: durationpy>=0.7 in /Users/paulina/Projects/Udacity/udacity-agentic-ai/.venv/lib/python3.13/site-packages (from kubernetes>=28.1.0->chromadb>=1.0.4) (0.10)\n",
      "Requirement already satisfied: cachetools<6.0,>=2.0.0 in /Users/paulina/Projects/Udacity/udacity-agentic-ai/.venv/lib/python3.13/site-packages (from google-auth>=1.0.1->kubernetes>=28.1.0->chromadb>=1.0.4) (5.5.2)\n",
      "Requirement already satisfied: pyasn1-modules>=0.2.1 in /Users/paulina/Projects/Udacity/udacity-agentic-ai/.venv/lib/python3.13/site-packages (from google-auth>=1.0.1->kubernetes>=28.1.0->chromadb>=1.0.4) (0.4.2)\n",
      "Requirement already satisfied: rsa<5,>=3.1.4 in /Users/paulina/Projects/Udacity/udacity-agentic-ai/.venv/lib/python3.13/site-packages (from google-auth>=1.0.1->kubernetes>=28.1.0->chromadb>=1.0.4) (4.9.1)\n",
      "Requirement already satisfied: pyasn1>=0.1.3 in /Users/paulina/Projects/Udacity/udacity-agentic-ai/.venv/lib/python3.13/site-packages (from rsa<5,>=3.1.4->google-auth>=1.0.1->kubernetes>=28.1.0->chromadb>=1.0.4) (0.6.1)\n",
      "Requirement already satisfied: coloredlogs in /Users/paulina/Projects/Udacity/udacity-agentic-ai/.venv/lib/python3.13/site-packages (from onnxruntime>=1.14.1->chromadb>=1.0.4) (15.0.1)\n",
      "Requirement already satisfied: flatbuffers in /Users/paulina/Projects/Udacity/udacity-agentic-ai/.venv/lib/python3.13/site-packages (from onnxruntime>=1.14.1->chromadb>=1.0.4) (25.2.10)\n",
      "Requirement already satisfied: protobuf in /Users/paulina/Projects/Udacity/udacity-agentic-ai/.venv/lib/python3.13/site-packages (from onnxruntime>=1.14.1->chromadb>=1.0.4) (6.32.1)\n",
      "Requirement already satisfied: sympy in /Users/paulina/Projects/Udacity/udacity-agentic-ai/.venv/lib/python3.13/site-packages (from onnxruntime>=1.14.1->chromadb>=1.0.4) (1.14.0)\n",
      "Requirement already satisfied: importlib-metadata<8.8.0,>=6.0 in /Users/paulina/Projects/Udacity/udacity-agentic-ai/.venv/lib/python3.13/site-packages (from opentelemetry-api>=1.2.0->chromadb>=1.0.4) (8.7.0)\n",
      "Requirement already satisfied: zipp>=3.20 in /Users/paulina/Projects/Udacity/udacity-agentic-ai/.venv/lib/python3.13/site-packages (from importlib-metadata<8.8.0,>=6.0->opentelemetry-api>=1.2.0->chromadb>=1.0.4) (3.23.0)\n",
      "Requirement already satisfied: googleapis-common-protos~=1.57 in /Users/paulina/Projects/Udacity/udacity-agentic-ai/.venv/lib/python3.13/site-packages (from opentelemetry-exporter-otlp-proto-grpc>=1.2.0->chromadb>=1.0.4) (1.70.0)\n",
      "Requirement already satisfied: opentelemetry-exporter-otlp-proto-common==1.37.0 in /Users/paulina/Projects/Udacity/udacity-agentic-ai/.venv/lib/python3.13/site-packages (from opentelemetry-exporter-otlp-proto-grpc>=1.2.0->chromadb>=1.0.4) (1.37.0)\n",
      "Requirement already satisfied: opentelemetry-proto==1.37.0 in /Users/paulina/Projects/Udacity/udacity-agentic-ai/.venv/lib/python3.13/site-packages (from opentelemetry-exporter-otlp-proto-grpc>=1.2.0->chromadb>=1.0.4) (1.37.0)\n",
      "Requirement already satisfied: opentelemetry-semantic-conventions==0.58b0 in /Users/paulina/Projects/Udacity/udacity-agentic-ai/.venv/lib/python3.13/site-packages (from opentelemetry-sdk>=1.2.0->chromadb>=1.0.4) (0.58b0)\n",
      "Requirement already satisfied: markdown-it-py>=2.2.0 in /Users/paulina/Projects/Udacity/udacity-agentic-ai/.venv/lib/python3.13/site-packages (from rich>=10.11.0->chromadb>=1.0.4) (4.0.0)\n",
      "Requirement already satisfied: pygments<3.0.0,>=2.13.0 in /Users/paulina/Projects/Udacity/udacity-agentic-ai/.venv/lib/python3.13/site-packages (from rich>=10.11.0->chromadb>=1.0.4) (2.19.2)\n",
      "Requirement already satisfied: mdurl~=0.1 in /Users/paulina/Projects/Udacity/udacity-agentic-ai/.venv/lib/python3.13/site-packages (from markdown-it-py>=2.2.0->rich>=10.11.0->chromadb>=1.0.4) (0.1.2)\n",
      "Requirement already satisfied: regex>=2022.1.18 in /Users/paulina/Projects/Udacity/udacity-agentic-ai/.venv/lib/python3.13/site-packages (from tiktoken>=0.5.1->tavily-python>=0.5.4) (2025.9.1)\n",
      "Requirement already satisfied: huggingface-hub<1.0,>=0.16.4 in /Users/paulina/Projects/Udacity/udacity-agentic-ai/.venv/lib/python3.13/site-packages (from tokenizers>=0.13.2->chromadb>=1.0.4) (0.34.4)\n",
      "Requirement already satisfied: filelock in /Users/paulina/Projects/Udacity/udacity-agentic-ai/.venv/lib/python3.13/site-packages (from huggingface-hub<1.0,>=0.16.4->tokenizers>=0.13.2->chromadb>=1.0.4) (3.19.1)\n",
      "Requirement already satisfied: fsspec>=2023.5.0 in /Users/paulina/Projects/Udacity/udacity-agentic-ai/.venv/lib/python3.13/site-packages (from huggingface-hub<1.0,>=0.16.4->tokenizers>=0.13.2->chromadb>=1.0.4) (2025.9.0)\n",
      "Requirement already satisfied: hf-xet<2.0.0,>=1.1.3 in /Users/paulina/Projects/Udacity/udacity-agentic-ai/.venv/lib/python3.13/site-packages (from huggingface-hub<1.0,>=0.16.4->tokenizers>=0.13.2->chromadb>=1.0.4) (1.1.10)\n",
      "Requirement already satisfied: click>=8.0.0 in /Users/paulina/Projects/Udacity/udacity-agentic-ai/.venv/lib/python3.13/site-packages (from typer>=0.9.0->chromadb>=1.0.4) (8.2.1)\n",
      "Requirement already satisfied: shellingham>=1.3.0 in /Users/paulina/Projects/Udacity/udacity-agentic-ai/.venv/lib/python3.13/site-packages (from typer>=0.9.0->chromadb>=1.0.4) (1.5.4)\n",
      "Requirement already satisfied: httptools>=0.6.3 in /Users/paulina/Projects/Udacity/udacity-agentic-ai/.venv/lib/python3.13/site-packages (from uvicorn[standard]>=0.18.3->chromadb>=1.0.4) (0.6.4)\n",
      "Requirement already satisfied: uvloop>=0.15.1 in /Users/paulina/Projects/Udacity/udacity-agentic-ai/.venv/lib/python3.13/site-packages (from uvicorn[standard]>=0.18.3->chromadb>=1.0.4) (0.21.0)\n",
      "Requirement already satisfied: watchfiles>=0.13 in /Users/paulina/Projects/Udacity/udacity-agentic-ai/.venv/lib/python3.13/site-packages (from uvicorn[standard]>=0.18.3->chromadb>=1.0.4) (1.1.0)\n",
      "Requirement already satisfied: websockets>=10.4 in /Users/paulina/Projects/Udacity/udacity-agentic-ai/.venv/lib/python3.13/site-packages (from uvicorn[standard]>=0.18.3->chromadb>=1.0.4) (15.0.1)\n",
      "Requirement already satisfied: humanfriendly>=9.1 in /Users/paulina/Projects/Udacity/udacity-agentic-ai/.venv/lib/python3.13/site-packages (from coloredlogs->onnxruntime>=1.14.1->chromadb>=1.0.4) (10.0)\n",
      "Requirement already satisfied: mpmath<1.4,>=1.1.0 in /Users/paulina/Projects/Udacity/udacity-agentic-ai/.venv/lib/python3.13/site-packages (from sympy->onnxruntime>=1.14.1->chromadb>=1.0.4) (1.3.0)\n",
      "\n",
      "\u001b[1m[\u001b[0m\u001b[34;49mnotice\u001b[0m\u001b[1;39;49m]\u001b[0m\u001b[39;49m A new release of pip is available: \u001b[0m\u001b[31;49m25.1.1\u001b[0m\u001b[39;49m -> \u001b[0m\u001b[32;49m25.2\u001b[0m\n",
      "\u001b[1m[\u001b[0m\u001b[34;49mnotice\u001b[0m\u001b[1;39;49m]\u001b[0m\u001b[39;49m To update, run: \u001b[0m\u001b[32;49mpip install --upgrade pip\u001b[0m\n",
      "Note: you may need to restart the kernel to use updated packages.\n"
     ]
    }
   ],
   "source": [
    "pip install \"chromadb>=1.0.4\" \"openai>=1.73.0\" \"pydantic>=2.11.3\" \"python-dotenv>=1.1.0\" \"tavily-python>=0.5.4\""
   ]
  },
  {
   "cell_type": "code",
   "execution_count": 11,
   "id": "a8d56169",
   "metadata": {},
   "outputs": [],
   "source": [
    "import os\n",
    "import json\n",
    "import chromadb\n",
    "from chromadb.utils import embedding_functions\n",
    "from dotenv import load_dotenv"
   ]
  },
  {
   "cell_type": "code",
   "execution_count": 12,
   "id": "87e465d4",
   "metadata": {},
   "outputs": [],
   "source": [
    "load_dotenv()\n",
    "openai_api_key = os.getenv(\"OPENAI_API_KEY\")\n",
    "base_url = os.getenv(\"BASE_URL\")"
   ]
  },
  {
   "cell_type": "markdown",
   "id": "27de4729",
   "metadata": {},
   "source": [
    "### VectorDB Instance"
   ]
  },
  {
   "cell_type": "code",
   "execution_count": 13,
   "id": "b25c36dd",
   "metadata": {},
   "outputs": [],
   "source": [
    "# Instantiate your ChromaDB Client\n",
    "chroma_client = chromadb.PersistentClient(path=\"chromadb\")"
   ]
  },
  {
   "cell_type": "markdown",
   "id": "df844b3b",
   "metadata": {},
   "source": [
    "### Collection"
   ]
  },
  {
   "cell_type": "code",
   "execution_count": 16,
   "id": "31c56281",
   "metadata": {},
   "outputs": [],
   "source": [
    "# Pick one embedding function\n",
    "embedding_fn = embedding_functions.OpenAIEmbeddingFunction()"
   ]
  },
  {
   "cell_type": "code",
   "execution_count": 17,
   "id": "0ec23893",
   "metadata": {},
   "outputs": [],
   "source": [
    "# Create a collection\n",
    "collection = chroma_client.create_collection(\n",
    "   name=\"udaplay\",\n",
    "   embedding_function=embedding_fn\n",
    ")\n",
    "\n"
   ]
  },
  {
   "cell_type": "markdown",
   "id": "f0a55081",
   "metadata": {},
   "source": [
    "### Add documents"
   ]
  },
  {
   "cell_type": "code",
   "execution_count": 18,
   "id": "eb83fbb1",
   "metadata": {},
   "outputs": [],
   "source": [
    "# Make sure you have a directory \"project/starter/games\"\n",
    "data_dir = \"games\"\n",
    "\n",
    "for file_name in sorted(os.listdir(data_dir)):\n",
    "    if not file_name.endswith(\".json\"):\n",
    "        continue\n",
    "\n",
    "    file_path = os.path.join(data_dir, file_name)\n",
    "    with open(file_path, \"r\", encoding=\"utf-8\") as f:\n",
    "        game = json.load(f)\n",
    "\n",
    "    # You can change what text you want to index\n",
    "    content = f\"[{game['Platform']}] {game['Name']} ({game['YearOfRelease']}) - {game['Description']}\"\n",
    "\n",
    "    # Use file name (like 001) as ID\n",
    "    doc_id = os.path.splitext(file_name)[0]\n",
    "\n",
    "    collection.add(\n",
    "        ids=[doc_id],\n",
    "        documents=[content],\n",
    "        metadatas=[game]\n",
    "    )"
   ]
  },
  {
   "cell_type": "code",
   "execution_count": 20,
   "id": "11aa4bb0",
   "metadata": {},
   "outputs": [
    {
     "name": "stdout",
     "output_type": "stream",
     "text": [
      "{'ids': [['006', '007', '009']], 'embeddings': None, 'documents': [['[Game Boy Color] Pokémon Gold and Silver (1999) - Second-generation Pokémon games introducing new regions, Pokémon, and gameplay mechanics.', '[Game Boy Advance] Pokémon Ruby and Sapphire (2002) - Third-generation Pokémon games set in the Hoenn region, featuring new Pokémon and double battles.', \"[Nintendo 64] Super Mario 64 (1996) - A groundbreaking 3D platformer that set new standards for the genre, featuring Mario's quest to rescue Princess Peach.\"]], 'uris': None, 'included': ['metadatas', 'documents', 'distances'], 'data': None, 'metadatas': [[{'Publisher': 'Nintendo', 'YearOfRelease': 1999, 'Name': 'Pokémon Gold and Silver', 'Platform': 'Game Boy Color', 'Genre': 'Role-playing', 'Description': 'Second-generation Pokémon games introducing new regions, Pokémon, and gameplay mechanics.'}, {'Description': 'Third-generation Pokémon games set in the Hoenn region, featuring new Pokémon and double battles.', 'Platform': 'Game Boy Advance', 'Genre': 'Role-playing', 'Name': 'Pokémon Ruby and Sapphire', 'Publisher': 'Nintendo', 'YearOfRelease': 2002}, {'Publisher': 'Nintendo', 'Genre': 'Platformer', 'Name': 'Super Mario 64', 'Platform': 'Nintendo 64', 'Description': \"A groundbreaking 3D platformer that set new standards for the genre, featuring Mario's quest to rescue Princess Peach.\", 'YearOfRelease': 1996}]], 'distances': [[0.17456024885177612, 0.17580944299697876, 0.2209256887435913]]}\n",
      "{'ids': [['010']], 'embeddings': None, 'documents': [['[GameCube] Super Smash Bros. Melee (2001) - A crossover fighting game featuring characters from various Nintendo franchises battling it out in dynamic arenas.']], 'uris': None, 'included': ['metadatas', 'documents', 'distances'], 'data': None, 'metadatas': [[{'Platform': 'GameCube', 'Genre': 'Fighting', 'Publisher': 'Nintendo', 'Name': 'Super Smash Bros. Melee', 'YearOfRelease': 2001, 'Description': 'A crossover fighting game featuring characters from various Nintendo franchises battling it out in dynamic arenas.'}]], 'distances': [[0.19979441165924072]]}\n"
     ]
    }
   ],
   "source": [
    "#Implement semantic search functionality\n",
    "findByName = collection.query(\n",
    "    query_texts=[\"pokemon\"],\n",
    "    n_results=3\n",
    ")\n",
    "print(findByName)\n",
    "\n",
    "# Search by genere\n",
    "findByGenre = collection.query(\n",
    "    query_texts=[\"nintendo\"],\n",
    "    n_results=3,\n",
    "    where={\"Genre\": \"Fighting\"}\n",
    ")\n",
    "print(findByGenre)\n"
   ]
  },
  {
   "cell_type": "code",
   "execution_count": 28,
   "id": "4e5d100c",
   "metadata": {},
   "outputs": [
    {
     "name": "stdout",
     "output_type": "stream",
     "text": [
      "{'ids': ['012'], 'embeddings': None, 'documents': ['[Nintendo Switch] Mario Kart 8 Deluxe (2017) - An enhanced version of Mario Kart 8, featuring new characters, tracks, and improved gameplay mechanics.'], 'uris': None, 'included': ['metadatas', 'documents'], 'data': None, 'metadatas': [{'Platform': 'Nintendo Switch', 'Publisher': 'Nintendo', 'Genre': 'Racing', 'Name': 'Mario Kart 8 Deluxe', 'Description': 'An enhanced version of Mario Kart 8, featuring new characters, tracks, and improved gameplay mechanics.', 'YearOfRelease': 2017}]}\n"
     ]
    }
   ],
   "source": [
    "findByPlatform = collection.get(\n",
    "      limit=10,\n",
    "      offset=0,\n",
    "      where={\"Platform\": \"Nintendo Switch\"}\n",
    "  )\n",
    "\n",
    "print(findByPlatform)"
   ]
  }
 ],
 "metadata": {
  "kernelspec": {
   "display_name": ".venv",
   "language": "python",
   "name": "python3"
  },
  "language_info": {
   "codemirror_mode": {
    "name": "ipython",
    "version": 3
   },
   "file_extension": ".py",
   "mimetype": "text/x-python",
   "name": "python",
   "nbconvert_exporter": "python",
   "pygments_lexer": "ipython3",
   "version": "3.13.7"
  }
 },
 "nbformat": 4,
 "nbformat_minor": 5
}
