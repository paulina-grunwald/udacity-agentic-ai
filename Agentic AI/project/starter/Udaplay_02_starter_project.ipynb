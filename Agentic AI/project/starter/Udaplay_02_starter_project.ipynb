{
 "cells": [
  {
   "cell_type": "markdown",
   "id": "6fdd0bcb",
   "metadata": {},
   "source": [
    "# [STARTER] Udaplay Project"
   ]
  },
  {
   "cell_type": "markdown",
   "id": "9325b035",
   "metadata": {},
   "source": [
    "## Part 02 - Agent\n",
    "\n",
    "In this part of the project, you'll use your VectorDB to be part of your Agent as a tool.\n",
    "\n",
    "You're building UdaPlay, an AI Research Agent for the video game industry. The agent will:\n",
    "1. Answer questions using internal knowledge (RAG)\n",
    "2. Search the web when needed\n",
    "3. Maintain conversation state\n",
    "4. Return structured outputs\n",
    "5. Store useful information for future use"
   ]
  },
  {
   "cell_type": "markdown",
   "id": "2b42de90",
   "metadata": {},
   "source": [
    "### Setup"
   ]
  },
  {
   "cell_type": "code",
   "execution_count": 2,
   "id": "a963d4ca",
   "metadata": {},
   "outputs": [
    {
     "name": "stdout",
     "output_type": "stream",
     "text": [
      "Requirement already satisfied: chromadb>=1.0.4 in /opt/homebrew/lib/python3.11/site-packages (1.0.20)\n",
      "Requirement already satisfied: openai>=1.73.0 in /opt/homebrew/lib/python3.11/site-packages (1.102.0)\n",
      "Requirement already satisfied: pydantic>=2.11.3 in /opt/homebrew/lib/python3.11/site-packages (2.11.7)\n",
      "Requirement already satisfied: python-dotenv>=1.1.0 in /opt/homebrew/lib/python3.11/site-packages (1.1.1)\n",
      "Requirement already satisfied: tavily-python>=0.5.4 in /opt/homebrew/lib/python3.11/site-packages (0.7.11)\n",
      "Requirement already satisfied: pdfplumber in /opt/homebrew/lib/python3.11/site-packages (0.11.7)\n",
      "Requirement already satisfied: build>=1.0.3 in /opt/homebrew/lib/python3.11/site-packages (from chromadb>=1.0.4) (1.3.0)\n",
      "Requirement already satisfied: pybase64>=1.4.1 in /opt/homebrew/lib/python3.11/site-packages (from chromadb>=1.0.4) (1.4.2)\n",
      "Requirement already satisfied: uvicorn>=0.18.3 in /opt/homebrew/lib/python3.11/site-packages (from uvicorn[standard]>=0.18.3->chromadb>=1.0.4) (0.35.0)\n",
      "Requirement already satisfied: numpy>=1.22.5 in /opt/homebrew/lib/python3.11/site-packages (from chromadb>=1.0.4) (2.3.2)\n",
      "Requirement already satisfied: posthog<6.0.0,>=2.4.0 in /opt/homebrew/lib/python3.11/site-packages (from chromadb>=1.0.4) (5.4.0)\n",
      "Requirement already satisfied: typing-extensions>=4.5.0 in /Users/paulina/Library/Python/3.11/lib/python/site-packages (from chromadb>=1.0.4) (4.15.0)\n",
      "Requirement already satisfied: onnxruntime>=1.14.1 in /opt/homebrew/lib/python3.11/site-packages (from chromadb>=1.0.4) (1.22.1)\n",
      "Requirement already satisfied: opentelemetry-api>=1.2.0 in /opt/homebrew/lib/python3.11/site-packages (from chromadb>=1.0.4) (1.36.0)\n",
      "Requirement already satisfied: opentelemetry-exporter-otlp-proto-grpc>=1.2.0 in /opt/homebrew/lib/python3.11/site-packages (from chromadb>=1.0.4) (1.36.0)\n",
      "Requirement already satisfied: opentelemetry-sdk>=1.2.0 in /opt/homebrew/lib/python3.11/site-packages (from chromadb>=1.0.4) (1.36.0)\n",
      "Requirement already satisfied: tokenizers>=0.13.2 in /opt/homebrew/lib/python3.11/site-packages (from chromadb>=1.0.4) (0.22.0)\n",
      "Requirement already satisfied: pypika>=0.48.9 in /opt/homebrew/lib/python3.11/site-packages (from chromadb>=1.0.4) (0.48.9)\n",
      "Requirement already satisfied: tqdm>=4.65.0 in /opt/homebrew/lib/python3.11/site-packages (from chromadb>=1.0.4) (4.67.1)\n",
      "Requirement already satisfied: overrides>=7.3.1 in /opt/homebrew/lib/python3.11/site-packages (from chromadb>=1.0.4) (7.7.0)\n",
      "Requirement already satisfied: importlib-resources in /opt/homebrew/lib/python3.11/site-packages (from chromadb>=1.0.4) (6.5.2)\n",
      "Requirement already satisfied: grpcio>=1.58.0 in /opt/homebrew/lib/python3.11/site-packages (from chromadb>=1.0.4) (1.74.0)\n",
      "Requirement already satisfied: bcrypt>=4.0.1 in /opt/homebrew/lib/python3.11/site-packages (from chromadb>=1.0.4) (4.3.0)\n",
      "Requirement already satisfied: typer>=0.9.0 in /opt/homebrew/lib/python3.11/site-packages (from chromadb>=1.0.4) (0.17.3)\n",
      "Requirement already satisfied: kubernetes>=28.1.0 in /opt/homebrew/lib/python3.11/site-packages (from chromadb>=1.0.4) (33.1.0)\n",
      "Requirement already satisfied: tenacity>=8.2.3 in /opt/homebrew/lib/python3.11/site-packages (from chromadb>=1.0.4) (9.1.2)\n",
      "Requirement already satisfied: pyyaml>=6.0.0 in /opt/homebrew/lib/python3.11/site-packages (from chromadb>=1.0.4) (6.0.2)\n",
      "Requirement already satisfied: mmh3>=4.0.1 in /opt/homebrew/lib/python3.11/site-packages (from chromadb>=1.0.4) (5.2.0)\n",
      "Requirement already satisfied: orjson>=3.9.12 in /opt/homebrew/lib/python3.11/site-packages (from chromadb>=1.0.4) (3.11.3)\n",
      "Requirement already satisfied: httpx>=0.27.0 in /opt/homebrew/lib/python3.11/site-packages (from chromadb>=1.0.4) (0.28.1)\n",
      "Requirement already satisfied: rich>=10.11.0 in /opt/homebrew/lib/python3.11/site-packages (from chromadb>=1.0.4) (14.1.0)\n",
      "Requirement already satisfied: jsonschema>=4.19.0 in /opt/homebrew/lib/python3.11/site-packages (from chromadb>=1.0.4) (4.25.1)\n",
      "Requirement already satisfied: requests<3.0,>=2.7 in /opt/homebrew/lib/python3.11/site-packages (from posthog<6.0.0,>=2.4.0->chromadb>=1.0.4) (2.32.5)\n",
      "Requirement already satisfied: six>=1.5 in /Users/paulina/Library/Python/3.11/lib/python/site-packages (from posthog<6.0.0,>=2.4.0->chromadb>=1.0.4) (1.17.0)\n",
      "Requirement already satisfied: python-dateutil>=2.2 in /Users/paulina/Library/Python/3.11/lib/python/site-packages (from posthog<6.0.0,>=2.4.0->chromadb>=1.0.4) (2.9.0.post0)\n",
      "Requirement already satisfied: backoff>=1.10.0 in /opt/homebrew/lib/python3.11/site-packages (from posthog<6.0.0,>=2.4.0->chromadb>=1.0.4) (2.2.1)\n",
      "Requirement already satisfied: distro>=1.5.0 in /opt/homebrew/lib/python3.11/site-packages (from posthog<6.0.0,>=2.4.0->chromadb>=1.0.4) (1.9.0)\n",
      "Requirement already satisfied: charset_normalizer<4,>=2 in /opt/homebrew/lib/python3.11/site-packages (from requests<3.0,>=2.7->posthog<6.0.0,>=2.4.0->chromadb>=1.0.4) (3.4.3)\n",
      "Requirement already satisfied: idna<4,>=2.5 in /opt/homebrew/lib/python3.11/site-packages (from requests<3.0,>=2.7->posthog<6.0.0,>=2.4.0->chromadb>=1.0.4) (3.10)\n",
      "Requirement already satisfied: urllib3<3,>=1.21.1 in /opt/homebrew/lib/python3.11/site-packages (from requests<3.0,>=2.7->posthog<6.0.0,>=2.4.0->chromadb>=1.0.4) (2.5.0)\n",
      "Requirement already satisfied: certifi>=2017.4.17 in /opt/homebrew/lib/python3.11/site-packages (from requests<3.0,>=2.7->posthog<6.0.0,>=2.4.0->chromadb>=1.0.4) (2025.8.3)\n",
      "Requirement already satisfied: anyio<5,>=3.5.0 in /opt/homebrew/lib/python3.11/site-packages (from openai>=1.73.0) (4.10.0)\n",
      "Requirement already satisfied: jiter<1,>=0.4.0 in /opt/homebrew/lib/python3.11/site-packages (from openai>=1.73.0) (0.10.0)\n",
      "Requirement already satisfied: sniffio in /opt/homebrew/lib/python3.11/site-packages (from openai>=1.73.0) (1.3.1)\n",
      "Requirement already satisfied: annotated-types>=0.6.0 in /opt/homebrew/lib/python3.11/site-packages (from pydantic>=2.11.3) (0.7.0)\n",
      "Requirement already satisfied: pydantic-core==2.33.2 in /opt/homebrew/lib/python3.11/site-packages (from pydantic>=2.11.3) (2.33.2)\n",
      "Requirement already satisfied: typing-inspection>=0.4.0 in /opt/homebrew/lib/python3.11/site-packages (from pydantic>=2.11.3) (0.4.1)\n",
      "Requirement already satisfied: httpcore==1.* in /opt/homebrew/lib/python3.11/site-packages (from httpx>=0.27.0->chromadb>=1.0.4) (1.0.9)\n",
      "Requirement already satisfied: h11>=0.16 in /opt/homebrew/lib/python3.11/site-packages (from httpcore==1.*->httpx>=0.27.0->chromadb>=1.0.4) (0.16.0)\n",
      "Requirement already satisfied: tiktoken>=0.5.1 in /opt/homebrew/lib/python3.11/site-packages (from tavily-python>=0.5.4) (0.11.0)\n",
      "Requirement already satisfied: pdfminer.six==20250506 in /opt/homebrew/lib/python3.11/site-packages (from pdfplumber) (20250506)\n",
      "Requirement already satisfied: Pillow>=9.1 in /opt/homebrew/lib/python3.11/site-packages (from pdfplumber) (11.3.0)\n",
      "Requirement already satisfied: pypdfium2>=4.18.0 in /opt/homebrew/lib/python3.11/site-packages (from pdfplumber) (4.30.0)\n",
      "Requirement already satisfied: cryptography>=36.0.0 in /opt/homebrew/lib/python3.11/site-packages (from pdfminer.six==20250506->pdfplumber) (45.0.7)\n",
      "Requirement already satisfied: packaging>=19.1 in /Users/paulina/Library/Python/3.11/lib/python/site-packages (from build>=1.0.3->chromadb>=1.0.4) (25.0)\n",
      "Requirement already satisfied: pyproject_hooks in /opt/homebrew/lib/python3.11/site-packages (from build>=1.0.3->chromadb>=1.0.4) (1.2.0)\n",
      "Requirement already satisfied: cffi>=1.14 in /opt/homebrew/lib/python3.11/site-packages (from cryptography>=36.0.0->pdfminer.six==20250506->pdfplumber) (1.17.1)\n",
      "Requirement already satisfied: pycparser in /opt/homebrew/lib/python3.11/site-packages (from cffi>=1.14->cryptography>=36.0.0->pdfminer.six==20250506->pdfplumber) (2.22)\n",
      "Requirement already satisfied: attrs>=22.2.0 in /opt/homebrew/lib/python3.11/site-packages (from jsonschema>=4.19.0->chromadb>=1.0.4) (25.3.0)\n",
      "Requirement already satisfied: jsonschema-specifications>=2023.03.6 in /opt/homebrew/lib/python3.11/site-packages (from jsonschema>=4.19.0->chromadb>=1.0.4) (2025.4.1)\n",
      "Requirement already satisfied: referencing>=0.28.4 in /opt/homebrew/lib/python3.11/site-packages (from jsonschema>=4.19.0->chromadb>=1.0.4) (0.36.2)\n",
      "Requirement already satisfied: rpds-py>=0.7.1 in /opt/homebrew/lib/python3.11/site-packages (from jsonschema>=4.19.0->chromadb>=1.0.4) (0.27.1)\n",
      "Requirement already satisfied: google-auth>=1.0.1 in /opt/homebrew/lib/python3.11/site-packages (from kubernetes>=28.1.0->chromadb>=1.0.4) (2.40.3)\n",
      "Requirement already satisfied: websocket-client!=0.40.0,!=0.41.*,!=0.42.*,>=0.32.0 in /opt/homebrew/lib/python3.11/site-packages (from kubernetes>=28.1.0->chromadb>=1.0.4) (1.8.0)\n",
      "Requirement already satisfied: requests-oauthlib in /opt/homebrew/lib/python3.11/site-packages (from kubernetes>=28.1.0->chromadb>=1.0.4) (2.0.0)\n",
      "Requirement already satisfied: oauthlib>=3.2.2 in /opt/homebrew/lib/python3.11/site-packages (from kubernetes>=28.1.0->chromadb>=1.0.4) (3.3.1)\n",
      "Requirement already satisfied: durationpy>=0.7 in /opt/homebrew/lib/python3.11/site-packages (from kubernetes>=28.1.0->chromadb>=1.0.4) (0.10)\n",
      "Requirement already satisfied: cachetools<6.0,>=2.0.0 in /opt/homebrew/lib/python3.11/site-packages (from google-auth>=1.0.1->kubernetes>=28.1.0->chromadb>=1.0.4) (5.5.2)\n",
      "Requirement already satisfied: pyasn1-modules>=0.2.1 in /opt/homebrew/lib/python3.11/site-packages (from google-auth>=1.0.1->kubernetes>=28.1.0->chromadb>=1.0.4) (0.4.2)\n",
      "Requirement already satisfied: rsa<5,>=3.1.4 in /opt/homebrew/lib/python3.11/site-packages (from google-auth>=1.0.1->kubernetes>=28.1.0->chromadb>=1.0.4) (4.9.1)\n",
      "Requirement already satisfied: pyasn1>=0.1.3 in /opt/homebrew/lib/python3.11/site-packages (from rsa<5,>=3.1.4->google-auth>=1.0.1->kubernetes>=28.1.0->chromadb>=1.0.4) (0.6.1)\n",
      "Requirement already satisfied: coloredlogs in /opt/homebrew/lib/python3.11/site-packages (from onnxruntime>=1.14.1->chromadb>=1.0.4) (15.0.1)\n",
      "Requirement already satisfied: flatbuffers in /opt/homebrew/lib/python3.11/site-packages (from onnxruntime>=1.14.1->chromadb>=1.0.4) (25.2.10)\n",
      "Requirement already satisfied: protobuf in /opt/homebrew/lib/python3.11/site-packages (from onnxruntime>=1.14.1->chromadb>=1.0.4) (6.32.0)\n",
      "Requirement already satisfied: sympy in /opt/homebrew/lib/python3.11/site-packages (from onnxruntime>=1.14.1->chromadb>=1.0.4) (1.14.0)\n",
      "Requirement already satisfied: importlib-metadata<8.8.0,>=6.0 in /opt/homebrew/lib/python3.11/site-packages (from opentelemetry-api>=1.2.0->chromadb>=1.0.4) (8.7.0)\n",
      "Requirement already satisfied: zipp>=3.20 in /opt/homebrew/lib/python3.11/site-packages (from importlib-metadata<8.8.0,>=6.0->opentelemetry-api>=1.2.0->chromadb>=1.0.4) (3.23.0)\n",
      "Requirement already satisfied: googleapis-common-protos~=1.57 in /opt/homebrew/lib/python3.11/site-packages (from opentelemetry-exporter-otlp-proto-grpc>=1.2.0->chromadb>=1.0.4) (1.70.0)\n",
      "Requirement already satisfied: opentelemetry-exporter-otlp-proto-common==1.36.0 in /opt/homebrew/lib/python3.11/site-packages (from opentelemetry-exporter-otlp-proto-grpc>=1.2.0->chromadb>=1.0.4) (1.36.0)\n",
      "Requirement already satisfied: opentelemetry-proto==1.36.0 in /opt/homebrew/lib/python3.11/site-packages (from opentelemetry-exporter-otlp-proto-grpc>=1.2.0->chromadb>=1.0.4) (1.36.0)\n",
      "Requirement already satisfied: opentelemetry-semantic-conventions==0.57b0 in /opt/homebrew/lib/python3.11/site-packages (from opentelemetry-sdk>=1.2.0->chromadb>=1.0.4) (0.57b0)\n",
      "Requirement already satisfied: markdown-it-py>=2.2.0 in /opt/homebrew/lib/python3.11/site-packages (from rich>=10.11.0->chromadb>=1.0.4) (4.0.0)\n",
      "Requirement already satisfied: pygments<3.0.0,>=2.13.0 in /Users/paulina/Library/Python/3.11/lib/python/site-packages (from rich>=10.11.0->chromadb>=1.0.4) (2.19.2)\n",
      "Requirement already satisfied: mdurl~=0.1 in /opt/homebrew/lib/python3.11/site-packages (from markdown-it-py>=2.2.0->rich>=10.11.0->chromadb>=1.0.4) (0.1.2)\n",
      "Requirement already satisfied: regex>=2022.1.18 in /opt/homebrew/lib/python3.11/site-packages (from tiktoken>=0.5.1->tavily-python>=0.5.4) (2025.8.29)\n",
      "Requirement already satisfied: huggingface-hub<1.0,>=0.16.4 in /opt/homebrew/lib/python3.11/site-packages (from tokenizers>=0.13.2->chromadb>=1.0.4) (0.34.4)\n",
      "Requirement already satisfied: filelock in /opt/homebrew/lib/python3.11/site-packages (from huggingface-hub<1.0,>=0.16.4->tokenizers>=0.13.2->chromadb>=1.0.4) (3.19.1)\n",
      "Requirement already satisfied: fsspec>=2023.5.0 in /opt/homebrew/lib/python3.11/site-packages (from huggingface-hub<1.0,>=0.16.4->tokenizers>=0.13.2->chromadb>=1.0.4) (2025.7.0)\n",
      "Requirement already satisfied: hf-xet<2.0.0,>=1.1.3 in /opt/homebrew/lib/python3.11/site-packages (from huggingface-hub<1.0,>=0.16.4->tokenizers>=0.13.2->chromadb>=1.0.4) (1.1.9)\n",
      "Requirement already satisfied: click>=8.0.0 in /opt/homebrew/lib/python3.11/site-packages (from typer>=0.9.0->chromadb>=1.0.4) (8.2.1)\n",
      "Requirement already satisfied: shellingham>=1.3.0 in /opt/homebrew/lib/python3.11/site-packages (from typer>=0.9.0->chromadb>=1.0.4) (1.5.4)\n",
      "Requirement already satisfied: httptools>=0.6.3 in /opt/homebrew/lib/python3.11/site-packages (from uvicorn[standard]>=0.18.3->chromadb>=1.0.4) (0.6.4)\n",
      "Requirement already satisfied: uvloop>=0.15.1 in /opt/homebrew/lib/python3.11/site-packages (from uvicorn[standard]>=0.18.3->chromadb>=1.0.4) (0.21.0)\n",
      "Requirement already satisfied: watchfiles>=0.13 in /opt/homebrew/lib/python3.11/site-packages (from uvicorn[standard]>=0.18.3->chromadb>=1.0.4) (1.1.0)\n",
      "Requirement already satisfied: websockets>=10.4 in /opt/homebrew/lib/python3.11/site-packages (from uvicorn[standard]>=0.18.3->chromadb>=1.0.4) (15.0.1)\n",
      "Requirement already satisfied: humanfriendly>=9.1 in /opt/homebrew/lib/python3.11/site-packages (from coloredlogs->onnxruntime>=1.14.1->chromadb>=1.0.4) (10.0)\n",
      "Requirement already satisfied: mpmath<1.4,>=1.1.0 in /opt/homebrew/lib/python3.11/site-packages (from sympy->onnxruntime>=1.14.1->chromadb>=1.0.4) (1.3.0)\n",
      "\n",
      "\u001b[1m[\u001b[0m\u001b[34;49mnotice\u001b[0m\u001b[1;39;49m]\u001b[0m\u001b[39;49m A new release of pip is available: \u001b[0m\u001b[31;49m25.1.1\u001b[0m\u001b[39;49m -> \u001b[0m\u001b[32;49m25.2\u001b[0m\n",
      "\u001b[1m[\u001b[0m\u001b[34;49mnotice\u001b[0m\u001b[1;39;49m]\u001b[0m\u001b[39;49m To update, run: \u001b[0m\u001b[32;49m/opt/homebrew/opt/python@3.11/bin/python3.11 -m pip install --upgrade pip\u001b[0m\n"
     ]
    }
   ],
   "source": [
    "# Install required dependencies\n",
    "import sys\n",
    "!{sys.executable} -m pip install \"chromadb>=1.0.4\" \"openai>=1.73.0\" \"pydantic>=2.11.3\" \"python-dotenv>=1.1.0\" \"tavily-python>=0.5.4\" \"pdfplumber\" \"tavily-python\""
   ]
  },
  {
   "cell_type": "code",
   "execution_count": 3,
   "id": "fd10c06e",
   "metadata": {},
   "outputs": [],
   "source": [
    "import os\n",
    "from lib.agents import Agent\n",
    "from lib.llm import LLM\n",
    "from lib.messages import UserMessage, SystemMessage, ToolMessage, AIMessage\n",
    "from lib.tooling import tool\n",
    "from dotenv import load_dotenv\n",
    "import json\n",
    "import chromadb\n",
    "from tavily import TavilyClient"
   ]
  },
  {
   "cell_type": "code",
   "execution_count": 4,
   "id": "87e465d4",
   "metadata": {},
   "outputs": [],
   "source": [
    "load_dotenv()\n",
    "openai_api_key = os.getenv(\"OPENAI_API_KEY\")\n",
    "base_url = os.getenv(\"BASE_URL\")\n",
    "tavily_api_key = os.getenv(\"TAVILY_API_KEY\")"
   ]
  },
  {
   "cell_type": "markdown",
   "id": "27de4729",
   "metadata": {},
   "source": [
    "### Tools"
   ]
  },
  {
   "cell_type": "markdown",
   "id": "46ab2dac",
   "metadata": {},
   "source": [
    "Build at least 3 tools:\n",
    "- retrieve_game: To search the vector DB\n",
    "- evaluate_retrieval: To assess the retrieval performance\n",
    "- game_web_search: If no good, search the web\n"
   ]
  },
  {
   "cell_type": "markdown",
   "id": "ce4f14cd",
   "metadata": {},
   "source": [
    "#### Retrieve Game Tool"
   ]
  },
  {
   "cell_type": "code",
   "execution_count": 5,
   "id": "b25c36dd",
   "metadata": {},
   "outputs": [],
   "source": [
    "# It should use chroma client and collection you created\n",
    "@tool\n",
    "def retrieve_game(query: str) -> list:\n",
    "  \"\"\"\n",
    "    Semantic search: Finds most results in the vector DB\n",
    "    args:\n",
    "    - query: a question about game industry.\n",
    "\n",
    "    You'll receive results as list. Each element contains:\n",
    "    - Platform: like Game Boy, Playstation 5, Xbox 360...)\n",
    "    - Name: Name of the Game\n",
    "    - YearOfRelease: Year when that game was released for that platform\n",
    "    - Description: Additional details about the game\n",
    "  \"\"\"\n",
    "  chroma_client = chromadb.PersistentClient(path=\"chromadb\")\n",
    "  collection = chroma_client.get_collection(\"udaplay\")\n",
    "  result = collection.query(query_texts=[query], n_results=5)\n",
    "  formated_result = []\n",
    "  result_lenght = len(result[\"documents\"][0])\n",
    "  for i in range(result_lenght):\n",
    "    formated_result.append(f\"{i+1}. {result['documents'][0][i]}\")\n",
    "  return \"\\n\".join(formated_result)\n"
   ]
  },
  {
   "cell_type": "markdown",
   "id": "910dc945",
   "metadata": {},
   "source": [
    "#### Evaluate Retrieval Tool"
   ]
  },
  {
   "cell_type": "code",
   "execution_count": 6,
   "id": "0d9d014b",
   "metadata": {},
   "outputs": [],
   "source": [
    "# You might use an LLM as judge in this tool to evaluate the performance\n",
    "# You need to prompt that LLM with something like:\n",
    "# \"Your task is to evaluate if the documents are enough to respond the query. \"\n",
    "# \"Give a detailed explanation, so it's possible to take an action to accept it or not.\"\n",
    "# Use EvaluationReport to parse the result\n",
    "@tool\n",
    "def evaluate_retrieval(question: str, retrieved_docs: str) -> str:\n",
    "  \"\"\"\n",
    "    Based on the user's question and on the list of retrieved documents,\n",
    "    it will analyze the usability of the documents to respond to that question.\n",
    "    args:\n",
    "    - question: original question from user\n",
    "    - retrieved_docs: retrieved documents most similar to the user query in the Vector Database\n",
    "\n",
    "    The result includes:\n",
    "    - useful: whether the documents are useful to answer the question\n",
    "    - description: description about the evaluation result\n",
    "  \"\"\"\n",
    "  llm = LLM(model=\"gpt-3.5-turbo\", openai_api_key=openai_api_key, base_url=base_url)\n",
    "  system_message = SystemMessage(content=\"You are an expert AI assistant that helps people find information.\")\n",
    "  user_message = UserMessage(content=f\"Your task is to evaluate if the documents are enough to respond the query.\\n\"\n",
    "  f\"Question: {question}\\n\"\n",
    "  f\"Documents: {retrieved_docs}\\n\"\n",
    "  f\"Give a detailed explanation, so it's possible to take an action to accept it or not.\")\n",
    "\n",
    "  # Use the LLM directly instead of Agent\n",
    "  messages = [system_message, user_message]\n",
    "  response = llm.invoke(messages)\n",
    "  return response.content"
   ]
  },
  {
   "cell_type": "markdown",
   "id": "c7935a26",
   "metadata": {},
   "source": [
    "#### Game Web Search Tool"
   ]
  },
  {
   "cell_type": "code",
   "execution_count": 7,
   "id": "2ad698aa",
   "metadata": {},
   "outputs": [],
   "source": [
    "@tool\n",
    "def game_web_search(question: str) -> str:\n",
    "  \"\"\"\n",
    "    Search the web using Tavily to find relevant information about the game industry.\n",
    "    args:\n",
    "    - question: a question about game industry.\n",
    "\n",
    "    The result includes:\n",
    "    - A summary of the most relevant information found on the web.\n",
    "  \"\"\"\n",
    "  from tavily import TavilyClient\n",
    "\n",
    "  tavily = TavilyClient(api_key=os.getenv(\"TAVILY_API_KEY\"))\n",
    "  search_results = tavily.search(query=question, max_results=5)\n",
    "\n",
    "  if not search_results or 'results' not in search_results:\n",
    "    return \"No results found.\"\n",
    "\n",
    "  results = search_results['results']\n",
    "  formatted_results = []\n",
    "  for i, result in enumerate(results):\n",
    "    title = result.get('title', 'No Title')\n",
    "    snippet = result.get('snippet', 'No Snippet')\n",
    "    url = result.get('url', 'No URL')\n",
    "    formatted_results.append(f\"{i+1}. {title}\\n{snippet}\\n{url}\\n\")\n",
    "\n",
    "  return \"\\n\".join(formatted_results)"
   ]
  },
  {
   "cell_type": "markdown",
   "id": "df844b3b",
   "metadata": {},
   "source": [
    "### Agent"
   ]
  },
  {
   "cell_type": "code",
   "execution_count": 8,
   "id": "31c56281",
   "metadata": {},
   "outputs": [],
   "source": [
    "# TODO: Create your Agent abstraction using StateMachine\n",
    "# Equip with an appropriate model\n",
    "# Craft a good set of instructions\n",
    "# Plug all Tools you developed\n",
    "\n",
    "tools = [retrieve_game, evaluate_retrieval, game_web_search]\n",
    "\n",
    "agent = Agent(\n",
    "    model_name=\"gpt-4o-mini\",\n",
    "    tools=tools,\n",
    "    openai_api_key=openai_api_key,\n",
    "    base_url=base_url,\n",
    "    instructions=(\n",
    "        \"You're UdaPlay, an AI Research Agent specializing in the video game industry. \"\n",
    "      \"You can answer multistep questions by sequentially calling functions.\"\n",
    "      \"You follow a pattern of Thought and Action. \"\n",
    "      \"Create a plan of execution: \"\n",
    "      \"- Use Thought to describe your thoughts about the question you have been asked. \"\n",
    "      \"- Use Action to specify one of the tools available to you. if you don't have a tool available, you can respond directly.\"\n",
    "      \"Your expertise includes game platforms, release dates, genres, and industry information. \"\n",
    "      \"When answering questions about video games: \"\n",
    "      \"1. First search the internal game database using retrieve_game \"\n",
    "      \"2. Evaluate if the results are sufficient using evaluate_retrieval \"\n",
    "      \"3. If needed, search the web for additional information using game_web_search \"\n",
    "      \"When you think it's over, return the answer \"\n",
    "      \"Never try to respond directly if the question needs a tool. \"\n",
    "      \"But if you don't have a tool available, you can respond directly. \"\n",
    "        f\"The actions you have are the Tools: {tools}. \\n\"\n",
    "    )\n",
    ")"
   ]
  },
  {
   "cell_type": "code",
   "execution_count": 9,
   "id": "959db4e4",
   "metadata": {},
   "outputs": [],
   "source": [
    "def print_final_answer(question: str, final_state: dict):\n",
    "  \"\"\"\n",
    "    Helper function to print the final answer from the agent's state.\n",
    "    It looks for the last AIMessage in the messages list and prints its content.\n",
    "  \"\"\"\n",
    "  if final_state and \"messages\" in final_state:\n",
    "    for msg in reversed(final_state[\"messages\"]):\n",
    "      if isinstance(msg, AIMessage) and msg.content:\n",
    "          print(f\"Question: {question}\")\n",
    "          print(f\"Final Answer: {msg.content}\")\n",
    "          break"
   ]
  },
  {
   "cell_type": "code",
   "execution_count": 10,
   "id": "0ec23893",
   "metadata": {},
   "outputs": [
    {
     "name": "stdout",
     "output_type": "stream",
     "text": [
      "[StateMachine] Starting: __entry__\n",
      "[StateMachine] Executing step: message_prep\n",
      "[StateMachine] Executing step: llm_processor\n",
      "[StateMachine] Executing step: tool_executor\n",
      "[StateMachine] Executing step: llm_processor\n",
      "[StateMachine] Executing step: tool_executor\n",
      "[StateMachine] Executing step: llm_processor\n",
      "[StateMachine] Terminating: __termination__\n",
      "Question: When Pokémon Gold and Silver was released?\n",
      "Final Answer: Pokémon Gold and Silver were released in 1999 for the Game Boy Color.\n",
      "[StateMachine] Starting: __entry__\n",
      "[StateMachine] Executing step: message_prep\n",
      "[StateMachine] Executing step: llm_processor\n",
      "[StateMachine] Executing step: tool_executor\n",
      "[StateMachine] Executing step: llm_processor\n",
      "[StateMachine] Executing step: tool_executor\n",
      "[StateMachine] Executing step: llm_processor\n",
      "[StateMachine] Terminating: __termination__\n",
      "Question: Which one was the first 3D platformer Mario game?\n",
      "Final Answer: The first 3D platformer Mario game is **Super Mario 64**, released in 1996 for the Nintendo 64. This game was groundbreaking and set new standards for the genre, featuring Mario's quest to rescue Princess Peach in a 3D environment.\n",
      "[StateMachine] Starting: __entry__\n",
      "[StateMachine] Executing step: message_prep\n",
      "[StateMachine] Executing step: llm_processor\n",
      "[StateMachine] Executing step: tool_executor\n",
      "[StateMachine] Executing step: llm_processor\n",
      "[StateMachine] Executing step: tool_executor\n",
      "[StateMachine] Executing step: llm_processor\n",
      "[StateMachine] Executing step: tool_executor\n",
      "[StateMachine] Executing step: llm_processor\n",
      "[StateMachine] Terminating: __termination__\n",
      "Question: Was Mortal Kombat X realeased for Playstation 5?\n",
      "Final Answer: Mortal Kombat X was not released for PlayStation 5. The game was originally released for PlayStation 4, Xbox One, and PC in April 2015. There is no official version or remaster of Mortal Kombat X specifically for the PlayStation 5.\n"
     ]
    }
   ],
   "source": [
    "questions = [\n",
    "\"When Pokémon Gold and Silver was released?\",\n",
    "\"Which one was the first 3D platformer Mario game?\",\n",
    "\"Was Mortal Kombat X realeased for Playstation 5?\"\n",
    "]\n",
    "\n",
    "# Invoke your agent\n",
    "for index, question in enumerate(questions):\n",
    "  response = agent.invoke(query=question, session_id=index)\n",
    "  final_state = response.get_final_state()\n",
    "  print_final_answer(question, final_state)"
   ]
  },
  {
   "cell_type": "markdown",
   "id": "f0a55081",
   "metadata": {},
   "source": [
    "### (Optional) Advanced"
   ]
  },
  {
   "cell_type": "code",
   "execution_count": 11,
   "id": "eb83fbb1",
   "metadata": {},
   "outputs": [],
   "source": [
    "# TODO: Update your agent with long-term memory\n",
    "# TODO: Convert the agent to be a state machine, with the tools being pre-defined nodes"
   ]
  },
  {
   "cell_type": "markdown",
   "id": "03c66f74",
   "metadata": {},
   "source": []
  }
 ],
 "metadata": {
  "kernelspec": {
   "display_name": "Python 3",
   "language": "python",
   "name": "python3"
  },
  "language_info": {
   "codemirror_mode": {
    "name": "ipython",
    "version": 3
   },
   "file_extension": ".py",
   "mimetype": "text/x-python",
   "name": "python",
   "nbconvert_exporter": "python",
   "pygments_lexer": "ipython3",
   "version": "3.11.13"
  }
 },
 "nbformat": 4,
 "nbformat_minor": 5
}
